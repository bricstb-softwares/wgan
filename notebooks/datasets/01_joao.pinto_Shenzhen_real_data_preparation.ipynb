{
 "cells": [
  {
   "cell_type": "code",
   "execution_count": 8,
   "id": "f8cf9e06-842f-4761-b480-e78e3631b728",
   "metadata": {},
   "outputs": [],
   "source": [
    "import pandas as pd\n",
    "import numpy as np\n",
    "import os, sys\n",
    "import glob\n",
    "import re\n",
    "import hashlib\n",
    "import pathlib\n",
    "from tqdm import tqdm\n",
    "#from sklearn.model_selection import train_test_split\n",
    "from rxwgan.core import stratified_train_val_test_splits\n",
    "import warnings\n",
    "warnings.filterwarnings(\"ignore\")"
   ]
  },
  {
   "cell_type": "code",
   "execution_count": 9,
   "id": "67076bb3-b9a2-44e9-81ec-5259a1099b13",
   "metadata": {},
   "outputs": [],
   "source": [
    "def expand_folder( path , extension):\n",
    "    l = glob.glob(path+'/*.'+extension)\n",
    "    l.sort()\n",
    "    return l"
   ]
  },
  {
   "cell_type": "code",
   "execution_count": 10,
   "id": "40b0d826-8b16-4b99-8b3d-401a85f575a0",
   "metadata": {},
   "outputs": [],
   "source": [
    "def get_md5(path):\n",
    "    return hashlib.md5(pathlib.Path(path).read_bytes()).hexdigest()\n"
   ]
  },
  {
   "cell_type": "code",
   "execution_count": 14,
   "id": "892f9edb-4176-4074-88b4-d4c30ddb37d2",
   "metadata": {},
   "outputs": [],
   "source": [
    "# this is the location of the raw chenzen data\n",
    "base_data_raw_path = '/home/joao.pinto/public/brics_data/Shenzhen/raw'\n",
    "clinical_path = base_data_raw_path + '/clinical'\n",
    "images_path = base_data_raw_path + '/images'"
   ]
  },
  {
   "cell_type": "code",
   "execution_count": 15,
   "id": "22c742ba-129d-44d4-b4cd-354b182889af",
   "metadata": {},
   "outputs": [],
   "source": [
    "def prepare_my_table( clinical_path , images_path ):\n",
    "    \n",
    "    d = {\n",
    "      'target'   : [],\n",
    "      'image_ID' : [],\n",
    "      'raw_image_path'     : [],\n",
    "      'raw_image_md5'      : [],\n",
    "      'age'      : [],\n",
    "      'sex'      : [],\n",
    "      'comment'  : [],\n",
    "    }\n",
    "\n",
    "    def treat_string( lines ):\n",
    "        string = ''\n",
    "        for s in lines:\n",
    "            string+=s.replace('\\n','').replace('\\t','')\n",
    "        return re.sub(' +', ' ', string)\n",
    "    \n",
    "    for idx, path in enumerate(expand_folder(clinical_path, 'txt')):\n",
    "    \n",
    "        with open(path,'r') as f:\n",
    "        \n",
    "            lines = f.readlines()\n",
    "            sex = 'male' if 'male' in lines[0] else 'female' # 1 for male and 0 for female\n",
    "            age = int(re.sub('\\D', '', lines[0]))\n",
    "            # get TB by file name (_1.txt is PTB or _0.txt is NTB)\n",
    "            target = 1 if '_1.txt' in path else 0\n",
    "        \n",
    "            filename = path.split('/')[-1]\n",
    "            image_filename = filename.replace('txt','png')\n",
    "            #image_path = images_path+('/tb/' if target else '/no_tb/')+image_filename\n",
    "            image_path = images_path+'/'+image_filename\n",
    "            d['target'].append(target)\n",
    "            d['age'].append(age)\n",
    "            d['sex'].append(sex)\n",
    "            d['raw_image_path'].append(image_path)\n",
    "            d['raw_image_md5'].append(get_md5(image_path))\n",
    "            d['comment'].append(treat_string(lines[1::]))\n",
    "            d['image_ID'].append(filename.replace('.txt',''))\n",
    "   \n",
    "            \n",
    "    return pd.DataFrame(d)\n",
    "\n",
    "\n",
    "df = prepare_my_table(clinical_path, images_path)\n",
    "df['run'] = 'Shenzhen'\n"
   ]
  },
  {
   "cell_type": "code",
   "execution_count": 16,
   "id": "2eb0936f-8817-4c41-8ac0-cfbf9933038b",
   "metadata": {},
   "outputs": [
    {
     "data": {
      "text/html": [
       "<div>\n",
       "<style scoped>\n",
       "    .dataframe tbody tr th:only-of-type {\n",
       "        vertical-align: middle;\n",
       "    }\n",
       "\n",
       "    .dataframe tbody tr th {\n",
       "        vertical-align: top;\n",
       "    }\n",
       "\n",
       "    .dataframe thead th {\n",
       "        text-align: right;\n",
       "    }\n",
       "</style>\n",
       "<table border=\"1\" class=\"dataframe\">\n",
       "  <thead>\n",
       "    <tr style=\"text-align: right;\">\n",
       "      <th></th>\n",
       "      <th>target</th>\n",
       "      <th>image_ID</th>\n",
       "      <th>raw_image_path</th>\n",
       "      <th>raw_image_md5</th>\n",
       "      <th>age</th>\n",
       "      <th>sex</th>\n",
       "      <th>comment</th>\n",
       "      <th>run</th>\n",
       "    </tr>\n",
       "  </thead>\n",
       "  <tbody>\n",
       "    <tr>\n",
       "      <th>0</th>\n",
       "      <td>0</td>\n",
       "      <td>CHNCXR_0001_0</td>\n",
       "      <td>/home/joao.pinto/public/brics_data/Shenzhen/ra...</td>\n",
       "      <td>313e3db7e5f03c88d08a4485c364f370</td>\n",
       "      <td>45</td>\n",
       "      <td>male</td>\n",
       "      <td>normal</td>\n",
       "      <td>Shenzhen</td>\n",
       "    </tr>\n",
       "    <tr>\n",
       "      <th>1</th>\n",
       "      <td>0</td>\n",
       "      <td>CHNCXR_0002_0</td>\n",
       "      <td>/home/joao.pinto/public/brics_data/Shenzhen/ra...</td>\n",
       "      <td>3d5fcc07713143d414802fcc9cb86b2e</td>\n",
       "      <td>63</td>\n",
       "      <td>male</td>\n",
       "      <td>normal</td>\n",
       "      <td>Shenzhen</td>\n",
       "    </tr>\n",
       "    <tr>\n",
       "      <th>2</th>\n",
       "      <td>0</td>\n",
       "      <td>CHNCXR_0003_0</td>\n",
       "      <td>/home/joao.pinto/public/brics_data/Shenzhen/ra...</td>\n",
       "      <td>404cfbaf320875f617a810b7c075a813</td>\n",
       "      <td>48</td>\n",
       "      <td>male</td>\n",
       "      <td>normal</td>\n",
       "      <td>Shenzhen</td>\n",
       "    </tr>\n",
       "    <tr>\n",
       "      <th>3</th>\n",
       "      <td>0</td>\n",
       "      <td>CHNCXR_0004_0</td>\n",
       "      <td>/home/joao.pinto/public/brics_data/Shenzhen/ra...</td>\n",
       "      <td>0e7d2065cbbc08ca13fc2e8881e01096</td>\n",
       "      <td>58</td>\n",
       "      <td>male</td>\n",
       "      <td>normal</td>\n",
       "      <td>Shenzhen</td>\n",
       "    </tr>\n",
       "    <tr>\n",
       "      <th>4</th>\n",
       "      <td>0</td>\n",
       "      <td>CHNCXR_0005_0</td>\n",
       "      <td>/home/joao.pinto/public/brics_data/Shenzhen/ra...</td>\n",
       "      <td>d4acb116ed926f64a805447a65132e93</td>\n",
       "      <td>28</td>\n",
       "      <td>male</td>\n",
       "      <td>normal</td>\n",
       "      <td>Shenzhen</td>\n",
       "    </tr>\n",
       "  </tbody>\n",
       "</table>\n",
       "</div>"
      ],
      "text/plain": [
       "   target       image_ID                                     raw_image_path  \\\n",
       "0       0  CHNCXR_0001_0  /home/joao.pinto/public/brics_data/Shenzhen/ra...   \n",
       "1       0  CHNCXR_0002_0  /home/joao.pinto/public/brics_data/Shenzhen/ra...   \n",
       "2       0  CHNCXR_0003_0  /home/joao.pinto/public/brics_data/Shenzhen/ra...   \n",
       "3       0  CHNCXR_0004_0  /home/joao.pinto/public/brics_data/Shenzhen/ra...   \n",
       "4       0  CHNCXR_0005_0  /home/joao.pinto/public/brics_data/Shenzhen/ra...   \n",
       "\n",
       "                      raw_image_md5  age   sex  comment       run  \n",
       "0  313e3db7e5f03c88d08a4485c364f370   45  male   normal  Shenzhen  \n",
       "1  3d5fcc07713143d414802fcc9cb86b2e   63  male   normal  Shenzhen  \n",
       "2  404cfbaf320875f617a810b7c075a813   48  male  normal   Shenzhen  \n",
       "3  0e7d2065cbbc08ca13fc2e8881e01096   58  male   normal  Shenzhen  \n",
       "4  d4acb116ed926f64a805447a65132e93   28  male   normal  Shenzhen  "
      ]
     },
     "execution_count": 16,
     "metadata": {},
     "output_type": "execute_result"
    }
   ],
   "source": [
    "df.head()\n"
   ]
  },
  {
   "cell_type": "code",
   "execution_count": 23,
   "id": "f3a09c34-e8b5-44e1-8ad2-274a6653abd0",
   "metadata": {},
   "outputs": [],
   "source": [
    "#df.to_csv('/home/jodafons/public/brics_data/Shenzhen/raw/Shenzhen_table_from_raw.csv')\n",
    "df.to_csv('user.joao.pinto_Shenzhen_table_from_raw.csv')\n"
   ]
  },
  {
   "cell_type": "markdown",
   "id": "be2b2fac-9229-4404-b067-96f4c403929c",
   "metadata": {},
   "source": [
    "# Split K-Folds"
   ]
  },
  {
   "cell_type": "code",
   "execution_count": 19,
   "id": "ec7eb4b0-2112-44fe-ae58-97511f6672f4",
   "metadata": {},
   "outputs": [
    {
     "name": "stdout",
     "output_type": "stream",
     "text": [
      "bins selected for val: [1, 2, 3, 4, 5, 6, 7, 8, 9]\n"
     ]
    },
    {
     "name": "stderr",
     "output_type": "stream",
     "text": [
      "100%|██████████████████████████████████████████████| 9/9 [00:00<00:00, 2132.70it/s]\n"
     ]
    },
    {
     "name": "stdout",
     "output_type": "stream",
     "text": [
      "bins selected for val: [0, 2, 3, 4, 5, 6, 7, 8, 9]\n"
     ]
    },
    {
     "name": "stderr",
     "output_type": "stream",
     "text": [
      "100%|██████████████████████████████████████████████| 9/9 [00:00<00:00, 3767.71it/s]\n"
     ]
    },
    {
     "name": "stdout",
     "output_type": "stream",
     "text": [
      "bins selected for val: [0, 1, 3, 4, 5, 6, 7, 8, 9]\n"
     ]
    },
    {
     "name": "stderr",
     "output_type": "stream",
     "text": [
      "100%|██████████████████████████████████████████████| 9/9 [00:00<00:00, 4373.12it/s]\n"
     ]
    },
    {
     "name": "stdout",
     "output_type": "stream",
     "text": [
      "bins selected for val: [0, 1, 2, 4, 5, 6, 7, 8, 9]\n"
     ]
    },
    {
     "name": "stderr",
     "output_type": "stream",
     "text": [
      "100%|██████████████████████████████████████████████| 9/9 [00:00<00:00, 4393.47it/s]\n"
     ]
    },
    {
     "name": "stdout",
     "output_type": "stream",
     "text": [
      "bins selected for val: [0, 1, 2, 3, 5, 6, 7, 8, 9]\n"
     ]
    },
    {
     "name": "stderr",
     "output_type": "stream",
     "text": [
      "100%|██████████████████████████████████████████████| 9/9 [00:00<00:00, 4571.73it/s]\n"
     ]
    },
    {
     "name": "stdout",
     "output_type": "stream",
     "text": [
      "bins selected for val: [0, 1, 2, 3, 4, 6, 7, 8, 9]\n"
     ]
    },
    {
     "name": "stderr",
     "output_type": "stream",
     "text": [
      "100%|██████████████████████████████████████████████| 9/9 [00:00<00:00, 4566.20it/s]\n"
     ]
    },
    {
     "name": "stdout",
     "output_type": "stream",
     "text": [
      "bins selected for val: [0, 1, 2, 3, 4, 5, 7, 8, 9]\n"
     ]
    },
    {
     "name": "stderr",
     "output_type": "stream",
     "text": [
      "100%|██████████████████████████████████████████████| 9/9 [00:00<00:00, 4675.35it/s]\n"
     ]
    },
    {
     "name": "stdout",
     "output_type": "stream",
     "text": [
      "bins selected for val: [0, 1, 2, 3, 4, 5, 6, 8, 9]\n"
     ]
    },
    {
     "name": "stderr",
     "output_type": "stream",
     "text": [
      "100%|██████████████████████████████████████████████| 9/9 [00:00<00:00, 4698.04it/s]\n"
     ]
    },
    {
     "name": "stdout",
     "output_type": "stream",
     "text": [
      "bins selected for val: [0, 1, 2, 3, 4, 5, 6, 7, 9]\n"
     ]
    },
    {
     "name": "stderr",
     "output_type": "stream",
     "text": [
      "100%|██████████████████████████████████████████████| 9/9 [00:00<00:00, 4712.11it/s]\n"
     ]
    },
    {
     "name": "stdout",
     "output_type": "stream",
     "text": [
      "bins selected for val: [0, 1, 2, 3, 4, 5, 6, 7, 8]\n"
     ]
    },
    {
     "name": "stderr",
     "output_type": "stream",
     "text": [
      "100%|██████████████████████████████████████████████| 9/9 [00:00<00:00, 4694.53it/s]\n"
     ]
    }
   ],
   "source": [
    "\n",
    "seed = 512\n",
    "splits = stratified_train_val_test_splits(df,10,seed)\n"
   ]
  },
  {
   "cell_type": "code",
   "execution_count": 20,
   "id": "399d659d-135c-458d-b14d-4af040767652",
   "metadata": {},
   "outputs": [],
   "source": [
    "df_splitted = None\n",
    "\n",
    "for test in range(10):\n",
    "    for sort in range(9):\n",
    "        \n",
    "        train_index = splits[test][sort][0]\n",
    "        val_index = splits[test][sort][1]\n",
    "        test_index = splits[test][sort][2]\n",
    "        \n",
    "        df_train = df.iloc[train_index]\n",
    "        df_train['test'] = test\n",
    "        df_train['sort'] = sort\n",
    "        df_train['dataset'] = 'train'\n",
    "        \n",
    "        df_val = df.iloc[val_index]\n",
    "        df_val['test'] = test\n",
    "        df_val['sort'] = sort\n",
    "        df_val['dataset'] = 'val'       \n",
    " \n",
    "        df_test = df.iloc[test_index]\n",
    "        df_test['test'] = test\n",
    "        df_test['sort'] = sort\n",
    "        df_test['dataset'] = 'test'       \n",
    "\n",
    "        if df_splitted is not None:\n",
    "            df_splitted = pd.concat((df_splitted, df_train, df_val, df_test) )\n",
    "        else:\n",
    "            df_splitted = pd.concat((df_train, df_val, df_test) )\n",
    "            \n",
    "        df_splitted['type'] = 'real'"
   ]
  },
  {
   "cell_type": "code",
   "execution_count": 22,
   "id": "480112d4-5d02-4c9e-af34-9cc64c7f986c",
   "metadata": {},
   "outputs": [],
   "source": [
    "df_splitted.to_csv('user.joao.pinto_Shenzhen_table_from_raw_splitted.csv')\n"
   ]
  },
  {
   "cell_type": "code",
   "execution_count": null,
   "id": "00fc5b48-282c-4b62-b432-92c72100a31a",
   "metadata": {},
   "outputs": [],
   "source": []
  }
 ],
 "metadata": {
  "kernelspec": {
   "display_name": "Python 3 (ipykernel)",
   "language": "python",
   "name": "python3"
  },
  "language_info": {
   "codemirror_mode": {
    "name": "ipython",
    "version": 3
   },
   "file_extension": ".py",
   "mimetype": "text/x-python",
   "name": "python",
   "nbconvert_exporter": "python",
   "pygments_lexer": "ipython3",
   "version": "3.8.10"
  }
 },
 "nbformat": 4,
 "nbformat_minor": 5
}

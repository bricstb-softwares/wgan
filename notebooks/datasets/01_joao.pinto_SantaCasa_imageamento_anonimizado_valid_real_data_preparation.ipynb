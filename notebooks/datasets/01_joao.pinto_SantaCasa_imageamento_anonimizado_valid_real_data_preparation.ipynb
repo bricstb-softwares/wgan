{
 "cells": [
  {
   "cell_type": "code",
   "execution_count": 34,
   "id": "f8cf9e06-842f-4761-b480-e78e3631b728",
   "metadata": {},
   "outputs": [],
   "source": [
    "import pandas as pd\n",
    "import numpy as np\n",
    "import os, sys\n",
    "import glob\n",
    "import re\n",
    "import hashlib\n",
    "import pathlib\n",
    "from tqdm import tqdm\n",
    "#from sklearn.model_selection import train_test_split\n",
    "from rxwgan.core import stratified_train_val_test_splits\n",
    "from rxwgan.datasets import DownloadDataset\n",
    "import warnings\n",
    "import pickle\n",
    "warnings.filterwarnings(\"ignore\")"
   ]
  },
  {
   "cell_type": "code",
   "execution_count": 2,
   "id": "d8a0e7d9-ae02-4a0c-a937-74ddf899872e",
   "metadata": {},
   "outputs": [],
   "source": [
    "token=\"b16fe0fc92088c4840a98160f3848839e68b1148\""
   ]
  },
  {
   "cell_type": "code",
   "execution_count": 3,
   "id": "51b42496-e41e-40f2-b6d9-f833cec774b0",
   "metadata": {},
   "outputs": [
    {
     "name": "stderr",
     "output_type": "stream",
     "text": [
      "100%|████████████████████████████████████████████████████████████████████████████████| 167/167 [00:26<00:00,  6.35it/s]\n"
     ]
    }
   ],
   "source": [
    "#df = DownloadDataset(token).download('Imageamento', 'images', basepath='.')\n",
    "df = DownloadDataset(token).download('imageamento_anonimizado_valid', 'images', basepath='.')"
   ]
  },
  {
   "cell_type": "code",
   "execution_count": null,
   "id": "7c3edfb6-1ac0-4eeb-8373-c47d91550039",
   "metadata": {},
   "outputs": [],
   "source": []
  },
  {
   "cell_type": "code",
   "execution_count": 17,
   "id": "67076bb3-b9a2-44e9-81ec-5259a1099b13",
   "metadata": {},
   "outputs": [],
   "source": [
    "def expand_folder( path , extension):\n",
    "    l = glob.glob(path+'/*.'+extension)\n",
    "    l.sort()\n",
    "    return l"
   ]
  },
  {
   "cell_type": "code",
   "execution_count": 18,
   "id": "40b0d826-8b16-4b99-8b3d-401a85f575a0",
   "metadata": {},
   "outputs": [],
   "source": [
    "def get_md5(path):\n",
    "    return hashlib.md5(pathlib.Path(path).read_bytes()).hexdigest()\n"
   ]
  },
  {
   "cell_type": "code",
   "execution_count": 19,
   "id": "892f9edb-4176-4074-88b4-d4c30ddb37d2",
   "metadata": {},
   "outputs": [],
   "source": [
    "# this is the location of the raw chenzen data\n",
    "base_data_raw_path = '/home/joao.pinto/public/brics_data/SantaCasa/imageamento_anonimizado_valid/raw/images'"
   ]
  },
  {
   "cell_type": "code",
   "execution_count": 20,
   "id": "22c742ba-129d-44d4-b4cd-354b182889af",
   "metadata": {},
   "outputs": [],
   "source": [
    "def prepare_my_table( path, target ):\n",
    "    \n",
    "    d = {\n",
    "      'target'   : [],\n",
    "      'image_ID' : [],\n",
    "      'raw_image_path'     : [],\n",
    "      'raw_image_md5'      : [],\n",
    "    }\n",
    "\n",
    "\n",
    "    \n",
    "    for idx, path in enumerate(expand_folder(path, 'png')):\n",
    "            \n",
    "            image_filename = path.split('/')[-1]\n",
    "            image_path = path\n",
    "            d['target'].append(target)\n",
    "            d['raw_image_path'].append(image_path)\n",
    "            d['raw_image_md5'].append(get_md5(image_path))\n",
    "            d['image_ID'].append(image_filename.replace('.png',''))\n",
    "   \n",
    "            \n",
    "    return pd.DataFrame(d)\n",
    "\n",
    "\n",
    "df = prepare_my_table(base_data_raw_path, 0)\n",
    "df['run'] = 'SantaCasa_imageamento_anonimizado_valid'\n"
   ]
  },
  {
   "cell_type": "code",
   "execution_count": 21,
   "id": "2eb0936f-8817-4c41-8ac0-cfbf9933038b",
   "metadata": {},
   "outputs": [
    {
     "data": {
      "text/html": [
       "<div>\n",
       "<style scoped>\n",
       "    .dataframe tbody tr th:only-of-type {\n",
       "        vertical-align: middle;\n",
       "    }\n",
       "\n",
       "    .dataframe tbody tr th {\n",
       "        vertical-align: top;\n",
       "    }\n",
       "\n",
       "    .dataframe thead th {\n",
       "        text-align: right;\n",
       "    }\n",
       "</style>\n",
       "<table border=\"1\" class=\"dataframe\">\n",
       "  <thead>\n",
       "    <tr style=\"text-align: right;\">\n",
       "      <th></th>\n",
       "      <th>target</th>\n",
       "      <th>image_ID</th>\n",
       "      <th>raw_image_path</th>\n",
       "      <th>raw_image_md5</th>\n",
       "      <th>run</th>\n",
       "    </tr>\n",
       "  </thead>\n",
       "  <tbody>\n",
       "    <tr>\n",
       "      <th>0</th>\n",
       "      <td>0</td>\n",
       "      <td>editi_20220315_185346_E68377</td>\n",
       "      <td>/home/joao.pinto/public/brics_data/SantaCasa/i...</td>\n",
       "      <td>f64fec179a09f231b5612a720703aabb</td>\n",
       "      <td>SantaCasa_imageamento_anonimizado_valid</td>\n",
       "    </tr>\n",
       "    <tr>\n",
       "      <th>1</th>\n",
       "      <td>0</td>\n",
       "      <td>editi_20220315_191002_5649EF</td>\n",
       "      <td>/home/joao.pinto/public/brics_data/SantaCasa/i...</td>\n",
       "      <td>4f42a1b277fada522a2dd2f0ba9f2ae1</td>\n",
       "      <td>SantaCasa_imageamento_anonimizado_valid</td>\n",
       "    </tr>\n",
       "    <tr>\n",
       "      <th>2</th>\n",
       "      <td>0</td>\n",
       "      <td>editi_20220315_191225_4FF83C</td>\n",
       "      <td>/home/joao.pinto/public/brics_data/SantaCasa/i...</td>\n",
       "      <td>c7b44532e26faa629ad69c0921abd03d</td>\n",
       "      <td>SantaCasa_imageamento_anonimizado_valid</td>\n",
       "    </tr>\n",
       "    <tr>\n",
       "      <th>3</th>\n",
       "      <td>0</td>\n",
       "      <td>editi_20220315_191353_0F33D8</td>\n",
       "      <td>/home/joao.pinto/public/brics_data/SantaCasa/i...</td>\n",
       "      <td>c0047ef85865d708321d9fcc717087e9</td>\n",
       "      <td>SantaCasa_imageamento_anonimizado_valid</td>\n",
       "    </tr>\n",
       "    <tr>\n",
       "      <th>4</th>\n",
       "      <td>0</td>\n",
       "      <td>editi_20220315_191628_2AB2E8</td>\n",
       "      <td>/home/joao.pinto/public/brics_data/SantaCasa/i...</td>\n",
       "      <td>4c217bbe7c84b8cb7bdca0f5bf149dae</td>\n",
       "      <td>SantaCasa_imageamento_anonimizado_valid</td>\n",
       "    </tr>\n",
       "  </tbody>\n",
       "</table>\n",
       "</div>"
      ],
      "text/plain": [
       "   target                      image_ID  \\\n",
       "0       0  editi_20220315_185346_E68377   \n",
       "1       0  editi_20220315_191002_5649EF   \n",
       "2       0  editi_20220315_191225_4FF83C   \n",
       "3       0  editi_20220315_191353_0F33D8   \n",
       "4       0  editi_20220315_191628_2AB2E8   \n",
       "\n",
       "                                      raw_image_path  \\\n",
       "0  /home/joao.pinto/public/brics_data/SantaCasa/i...   \n",
       "1  /home/joao.pinto/public/brics_data/SantaCasa/i...   \n",
       "2  /home/joao.pinto/public/brics_data/SantaCasa/i...   \n",
       "3  /home/joao.pinto/public/brics_data/SantaCasa/i...   \n",
       "4  /home/joao.pinto/public/brics_data/SantaCasa/i...   \n",
       "\n",
       "                      raw_image_md5                                      run  \n",
       "0  f64fec179a09f231b5612a720703aabb  SantaCasa_imageamento_anonimizado_valid  \n",
       "1  4f42a1b277fada522a2dd2f0ba9f2ae1  SantaCasa_imageamento_anonimizado_valid  \n",
       "2  c7b44532e26faa629ad69c0921abd03d  SantaCasa_imageamento_anonimizado_valid  \n",
       "3  c0047ef85865d708321d9fcc717087e9  SantaCasa_imageamento_anonimizado_valid  \n",
       "4  4c217bbe7c84b8cb7bdca0f5bf149dae  SantaCasa_imageamento_anonimizado_valid  "
      ]
     },
     "execution_count": 21,
     "metadata": {},
     "output_type": "execute_result"
    }
   ],
   "source": [
    "df.head()\n"
   ]
  },
  {
   "cell_type": "code",
   "execution_count": 27,
   "id": "f3a09c34-e8b5-44e1-8ad2-274a6653abd0",
   "metadata": {},
   "outputs": [],
   "source": [
    "#df.to_csv('/home/jodafons/public/brics_data/Shenzhen/raw/Shenzhen_table_from_raw.csv')\n",
    "df.to_csv('user.joao.pinto_SantaCasa_imageamento_anonimizado_valid_table_from_raw.csv')\n"
   ]
  },
  {
   "cell_type": "markdown",
   "id": "be2b2fac-9229-4404-b067-96f4c403929c",
   "metadata": {},
   "source": [
    "# Split K-Folds"
   ]
  },
  {
   "cell_type": "code",
   "execution_count": 36,
   "id": "ec7eb4b0-2112-44fe-ae58-97511f6672f4",
   "metadata": {},
   "outputs": [
    {
     "name": "stdout",
     "output_type": "stream",
     "text": [
      "bins selected for val: [1, 2, 3, 4, 5, 6, 7, 8, 9]\n"
     ]
    },
    {
     "name": "stderr",
     "output_type": "stream",
     "text": [
      "100%|██████████████████████████████████████████████████████████████████████████████████| 9/9 [00:00<00:00, 5564.38it/s]\n"
     ]
    },
    {
     "name": "stdout",
     "output_type": "stream",
     "text": [
      "bins selected for val: [0, 2, 3, 4, 5, 6, 7, 8, 9]\n"
     ]
    },
    {
     "name": "stderr",
     "output_type": "stream",
     "text": [
      "100%|██████████████████████████████████████████████████████████████████████████████████| 9/9 [00:00<00:00, 6197.46it/s]\n"
     ]
    },
    {
     "name": "stdout",
     "output_type": "stream",
     "text": [
      "bins selected for val: [0, 1, 3, 4, 5, 6, 7, 8, 9]\n"
     ]
    },
    {
     "name": "stderr",
     "output_type": "stream",
     "text": [
      "100%|██████████████████████████████████████████████████████████████████████████████████| 9/9 [00:00<00:00, 6331.56it/s]\n"
     ]
    },
    {
     "name": "stdout",
     "output_type": "stream",
     "text": [
      "bins selected for val: [0, 1, 2, 4, 5, 6, 7, 8, 9]\n"
     ]
    },
    {
     "name": "stderr",
     "output_type": "stream",
     "text": [
      "100%|██████████████████████████████████████████████████████████████████████████████████| 9/9 [00:00<00:00, 5958.76it/s]\n"
     ]
    },
    {
     "name": "stdout",
     "output_type": "stream",
     "text": [
      "bins selected for val: [0, 1, 2, 3, 5, 6, 7, 8, 9]\n"
     ]
    },
    {
     "name": "stderr",
     "output_type": "stream",
     "text": [
      "100%|██████████████████████████████████████████████████████████████████████████████████| 9/9 [00:00<00:00, 6719.25it/s]\n"
     ]
    },
    {
     "name": "stdout",
     "output_type": "stream",
     "text": [
      "bins selected for val: [0, 1, 2, 3, 4, 6, 7, 8, 9]\n"
     ]
    },
    {
     "name": "stderr",
     "output_type": "stream",
     "text": [
      "100%|██████████████████████████████████████████████████████████████████████████████████| 9/9 [00:00<00:00, 6774.72it/s]\n"
     ]
    },
    {
     "name": "stdout",
     "output_type": "stream",
     "text": [
      "bins selected for val: [0, 1, 2, 3, 4, 5, 7, 8, 9]\n"
     ]
    },
    {
     "name": "stderr",
     "output_type": "stream",
     "text": [
      "100%|██████████████████████████████████████████████████████████████████████████████████| 9/9 [00:00<00:00, 6151.01it/s]\n"
     ]
    },
    {
     "name": "stdout",
     "output_type": "stream",
     "text": [
      "bins selected for val: [0, 1, 2, 3, 4, 5, 6, 8, 9]\n"
     ]
    },
    {
     "name": "stderr",
     "output_type": "stream",
     "text": [
      "100%|██████████████████████████████████████████████████████████████████████████████████| 9/9 [00:00<00:00, 6737.24it/s]\n"
     ]
    },
    {
     "name": "stdout",
     "output_type": "stream",
     "text": [
      "bins selected for val: [0, 1, 2, 3, 4, 5, 6, 7, 9]\n"
     ]
    },
    {
     "name": "stderr",
     "output_type": "stream",
     "text": [
      "100%|██████████████████████████████████████████████████████████████████████████████████| 9/9 [00:00<00:00, 6731.23it/s]\n"
     ]
    },
    {
     "name": "stdout",
     "output_type": "stream",
     "text": [
      "bins selected for val: [0, 1, 2, 3, 4, 5, 6, 7, 8]\n"
     ]
    },
    {
     "name": "stderr",
     "output_type": "stream",
     "text": [
      "100%|██████████████████████████████████████████████████████████████████████████████████| 9/9 [00:00<00:00, 6883.43it/s]\n"
     ]
    }
   ],
   "source": [
    "\n",
    "seed = 512\n",
    "splits = stratified_train_val_test_splits(df,10,seed)\n",
    "pickle.dump(splits, open('splits.pkl','wb') )"
   ]
  },
  {
   "cell_type": "code",
   "execution_count": 29,
   "id": "399d659d-135c-458d-b14d-4af040767652",
   "metadata": {},
   "outputs": [],
   "source": [
    "df_splitted = None\n",
    "\n",
    "for test in range(10):\n",
    "    for sort in range(9):\n",
    "        \n",
    "        train_index = splits[test][sort][0]\n",
    "        val_index = splits[test][sort][1]\n",
    "        test_index = splits[test][sort][2]\n",
    "        \n",
    "        df_train = df.iloc[train_index]\n",
    "        df_train['test'] = test\n",
    "        df_train['sort'] = sort\n",
    "        df_train['dataset'] = 'train'\n",
    "        \n",
    "        df_val = df.iloc[val_index]\n",
    "        df_val['test'] = test\n",
    "        df_val['sort'] = sort\n",
    "        df_val['dataset'] = 'val'       \n",
    " \n",
    "        df_test = df.iloc[test_index]\n",
    "        df_test['test'] = test\n",
    "        df_test['sort'] = sort\n",
    "        df_test['dataset'] = 'test'       \n",
    "\n",
    "        if df_splitted is not None:\n",
    "            df_splitted = pd.concat((df_splitted, df_train, df_val, df_test) )\n",
    "        else:\n",
    "            df_splitted = pd.concat((df_train, df_val, df_test) )\n",
    "            \n",
    "        df_splitted['type'] = 'real'"
   ]
  },
  {
   "cell_type": "code",
   "execution_count": 30,
   "id": "480112d4-5d02-4c9e-af34-9cc64c7f986c",
   "metadata": {},
   "outputs": [],
   "source": [
    "df_splitted.to_csv('user.joao.pinto_SantaCasa_imageamento_anonimizado_valid_table_from_raw_splitted.csv')\n"
   ]
  },
  {
   "cell_type": "code",
   "execution_count": 31,
   "id": "00fc5b48-282c-4b62-b432-92c72100a31a",
   "metadata": {},
   "outputs": [
    {
     "data": {
      "text/html": [
       "<div>\n",
       "<style scoped>\n",
       "    .dataframe tbody tr th:only-of-type {\n",
       "        vertical-align: middle;\n",
       "    }\n",
       "\n",
       "    .dataframe tbody tr th {\n",
       "        vertical-align: top;\n",
       "    }\n",
       "\n",
       "    .dataframe thead th {\n",
       "        text-align: right;\n",
       "    }\n",
       "</style>\n",
       "<table border=\"1\" class=\"dataframe\">\n",
       "  <thead>\n",
       "    <tr style=\"text-align: right;\">\n",
       "      <th></th>\n",
       "      <th>target</th>\n",
       "      <th>image_ID</th>\n",
       "      <th>raw_image_path</th>\n",
       "      <th>raw_image_md5</th>\n",
       "      <th>run</th>\n",
       "      <th>test</th>\n",
       "      <th>sort</th>\n",
       "      <th>dataset</th>\n",
       "      <th>type</th>\n",
       "    </tr>\n",
       "  </thead>\n",
       "  <tbody>\n",
       "    <tr>\n",
       "      <th>0</th>\n",
       "      <td>0</td>\n",
       "      <td>editi_20220315_185346_E68377</td>\n",
       "      <td>/home/joao.pinto/public/brics_data/SantaCasa/i...</td>\n",
       "      <td>f64fec179a09f231b5612a720703aabb</td>\n",
       "      <td>SantaCasa_imageamento_anonimizado_valid</td>\n",
       "      <td>0</td>\n",
       "      <td>0</td>\n",
       "      <td>train</td>\n",
       "      <td>real</td>\n",
       "    </tr>\n",
       "    <tr>\n",
       "      <th>1</th>\n",
       "      <td>0</td>\n",
       "      <td>editi_20220315_191002_5649EF</td>\n",
       "      <td>/home/joao.pinto/public/brics_data/SantaCasa/i...</td>\n",
       "      <td>4f42a1b277fada522a2dd2f0ba9f2ae1</td>\n",
       "      <td>SantaCasa_imageamento_anonimizado_valid</td>\n",
       "      <td>0</td>\n",
       "      <td>0</td>\n",
       "      <td>train</td>\n",
       "      <td>real</td>\n",
       "    </tr>\n",
       "    <tr>\n",
       "      <th>2</th>\n",
       "      <td>0</td>\n",
       "      <td>editi_20220315_191225_4FF83C</td>\n",
       "      <td>/home/joao.pinto/public/brics_data/SantaCasa/i...</td>\n",
       "      <td>c7b44532e26faa629ad69c0921abd03d</td>\n",
       "      <td>SantaCasa_imageamento_anonimizado_valid</td>\n",
       "      <td>0</td>\n",
       "      <td>0</td>\n",
       "      <td>train</td>\n",
       "      <td>real</td>\n",
       "    </tr>\n",
       "    <tr>\n",
       "      <th>4</th>\n",
       "      <td>0</td>\n",
       "      <td>editi_20220315_191628_2AB2E8</td>\n",
       "      <td>/home/joao.pinto/public/brics_data/SantaCasa/i...</td>\n",
       "      <td>4c217bbe7c84b8cb7bdca0f5bf149dae</td>\n",
       "      <td>SantaCasa_imageamento_anonimizado_valid</td>\n",
       "      <td>0</td>\n",
       "      <td>0</td>\n",
       "      <td>train</td>\n",
       "      <td>real</td>\n",
       "    </tr>\n",
       "    <tr>\n",
       "      <th>5</th>\n",
       "      <td>0</td>\n",
       "      <td>editi_20220315_192116_C26327</td>\n",
       "      <td>/home/joao.pinto/public/brics_data/SantaCasa/i...</td>\n",
       "      <td>8c29b95ce180ae020ea8c83692d888d0</td>\n",
       "      <td>SantaCasa_imageamento_anonimizado_valid</td>\n",
       "      <td>0</td>\n",
       "      <td>0</td>\n",
       "      <td>train</td>\n",
       "      <td>real</td>\n",
       "    </tr>\n",
       "    <tr>\n",
       "      <th>...</th>\n",
       "      <td>...</td>\n",
       "      <td>...</td>\n",
       "      <td>...</td>\n",
       "      <td>...</td>\n",
       "      <td>...</td>\n",
       "      <td>...</td>\n",
       "      <td>...</td>\n",
       "      <td>...</td>\n",
       "      <td>...</td>\n",
       "    </tr>\n",
       "    <tr>\n",
       "      <th>147</th>\n",
       "      <td>0</td>\n",
       "      <td>editi_IMG_9109_079B33</td>\n",
       "      <td>/home/joao.pinto/public/brics_data/SantaCasa/i...</td>\n",
       "      <td>3a92de703f83e1283af0aa1cc95f5ced</td>\n",
       "      <td>SantaCasa_imageamento_anonimizado_valid</td>\n",
       "      <td>9</td>\n",
       "      <td>8</td>\n",
       "      <td>test</td>\n",
       "      <td>real</td>\n",
       "    </tr>\n",
       "    <tr>\n",
       "      <th>151</th>\n",
       "      <td>0</td>\n",
       "      <td>editi_IMG_9190_DBD942</td>\n",
       "      <td>/home/joao.pinto/public/brics_data/SantaCasa/i...</td>\n",
       "      <td>277d9f700ca64fb6c438b7d220bbe945</td>\n",
       "      <td>SantaCasa_imageamento_anonimizado_valid</td>\n",
       "      <td>9</td>\n",
       "      <td>8</td>\n",
       "      <td>test</td>\n",
       "      <td>real</td>\n",
       "    </tr>\n",
       "    <tr>\n",
       "      <th>161</th>\n",
       "      <td>0</td>\n",
       "      <td>editi_IMG_9538_134496</td>\n",
       "      <td>/home/joao.pinto/public/brics_data/SantaCasa/i...</td>\n",
       "      <td>d9562a122c28b9c1972e8b931199bb58</td>\n",
       "      <td>SantaCasa_imageamento_anonimizado_valid</td>\n",
       "      <td>9</td>\n",
       "      <td>8</td>\n",
       "      <td>test</td>\n",
       "      <td>real</td>\n",
       "    </tr>\n",
       "    <tr>\n",
       "      <th>165</th>\n",
       "      <td>0</td>\n",
       "      <td>editi_IMG_9620_16B93E</td>\n",
       "      <td>/home/joao.pinto/public/brics_data/SantaCasa/i...</td>\n",
       "      <td>2a7f364114d8e715beea3449b384d109</td>\n",
       "      <td>SantaCasa_imageamento_anonimizado_valid</td>\n",
       "      <td>9</td>\n",
       "      <td>8</td>\n",
       "      <td>test</td>\n",
       "      <td>real</td>\n",
       "    </tr>\n",
       "    <tr>\n",
       "      <th>166</th>\n",
       "      <td>0</td>\n",
       "      <td>editi_IMG_9689_24016A</td>\n",
       "      <td>/home/joao.pinto/public/brics_data/SantaCasa/i...</td>\n",
       "      <td>57b2f64bcd9f01080fc43119b6764618</td>\n",
       "      <td>SantaCasa_imageamento_anonimizado_valid</td>\n",
       "      <td>9</td>\n",
       "      <td>8</td>\n",
       "      <td>test</td>\n",
       "      <td>real</td>\n",
       "    </tr>\n",
       "  </tbody>\n",
       "</table>\n",
       "<p>15030 rows × 9 columns</p>\n",
       "</div>"
      ],
      "text/plain": [
       "     target                      image_ID  \\\n",
       "0         0  editi_20220315_185346_E68377   \n",
       "1         0  editi_20220315_191002_5649EF   \n",
       "2         0  editi_20220315_191225_4FF83C   \n",
       "4         0  editi_20220315_191628_2AB2E8   \n",
       "5         0  editi_20220315_192116_C26327   \n",
       "..      ...                           ...   \n",
       "147       0         editi_IMG_9109_079B33   \n",
       "151       0         editi_IMG_9190_DBD942   \n",
       "161       0         editi_IMG_9538_134496   \n",
       "165       0         editi_IMG_9620_16B93E   \n",
       "166       0         editi_IMG_9689_24016A   \n",
       "\n",
       "                                        raw_image_path  \\\n",
       "0    /home/joao.pinto/public/brics_data/SantaCasa/i...   \n",
       "1    /home/joao.pinto/public/brics_data/SantaCasa/i...   \n",
       "2    /home/joao.pinto/public/brics_data/SantaCasa/i...   \n",
       "4    /home/joao.pinto/public/brics_data/SantaCasa/i...   \n",
       "5    /home/joao.pinto/public/brics_data/SantaCasa/i...   \n",
       "..                                                 ...   \n",
       "147  /home/joao.pinto/public/brics_data/SantaCasa/i...   \n",
       "151  /home/joao.pinto/public/brics_data/SantaCasa/i...   \n",
       "161  /home/joao.pinto/public/brics_data/SantaCasa/i...   \n",
       "165  /home/joao.pinto/public/brics_data/SantaCasa/i...   \n",
       "166  /home/joao.pinto/public/brics_data/SantaCasa/i...   \n",
       "\n",
       "                        raw_image_md5  \\\n",
       "0    f64fec179a09f231b5612a720703aabb   \n",
       "1    4f42a1b277fada522a2dd2f0ba9f2ae1   \n",
       "2    c7b44532e26faa629ad69c0921abd03d   \n",
       "4    4c217bbe7c84b8cb7bdca0f5bf149dae   \n",
       "5    8c29b95ce180ae020ea8c83692d888d0   \n",
       "..                                ...   \n",
       "147  3a92de703f83e1283af0aa1cc95f5ced   \n",
       "151  277d9f700ca64fb6c438b7d220bbe945   \n",
       "161  d9562a122c28b9c1972e8b931199bb58   \n",
       "165  2a7f364114d8e715beea3449b384d109   \n",
       "166  57b2f64bcd9f01080fc43119b6764618   \n",
       "\n",
       "                                         run  test  sort dataset  type  \n",
       "0    SantaCasa_imageamento_anonimizado_valid     0     0   train  real  \n",
       "1    SantaCasa_imageamento_anonimizado_valid     0     0   train  real  \n",
       "2    SantaCasa_imageamento_anonimizado_valid     0     0   train  real  \n",
       "4    SantaCasa_imageamento_anonimizado_valid     0     0   train  real  \n",
       "5    SantaCasa_imageamento_anonimizado_valid     0     0   train  real  \n",
       "..                                       ...   ...   ...     ...   ...  \n",
       "147  SantaCasa_imageamento_anonimizado_valid     9     8    test  real  \n",
       "151  SantaCasa_imageamento_anonimizado_valid     9     8    test  real  \n",
       "161  SantaCasa_imageamento_anonimizado_valid     9     8    test  real  \n",
       "165  SantaCasa_imageamento_anonimizado_valid     9     8    test  real  \n",
       "166  SantaCasa_imageamento_anonimizado_valid     9     8    test  real  \n",
       "\n",
       "[15030 rows x 9 columns]"
      ]
     },
     "execution_count": 31,
     "metadata": {},
     "output_type": "execute_result"
    }
   ],
   "source": [
    "df_splitted"
   ]
  },
  {
   "cell_type": "code",
   "execution_count": null,
   "id": "f7101080-c082-4b3f-9e76-c5cf6d0834d4",
   "metadata": {},
   "outputs": [],
   "source": []
  },
  {
   "cell_type": "code",
   "execution_count": null,
   "id": "1d725589-9544-4de7-bc54-c3d4e51fec0f",
   "metadata": {},
   "outputs": [],
   "source": []
  },
  {
   "cell_type": "code",
   "execution_count": null,
   "id": "c423f935-18c0-4e1f-806d-1133406ebfe1",
   "metadata": {},
   "outputs": [],
   "source": []
  },
  {
   "cell_type": "code",
   "execution_count": null,
   "id": "21c90250-d0d9-4af8-bb35-ab59cf3c9acc",
   "metadata": {},
   "outputs": [],
   "source": []
  },
  {
   "cell_type": "code",
   "execution_count": null,
   "id": "d5bfc3af-ca17-457d-9d3a-46476af6d72f",
   "metadata": {},
   "outputs": [],
   "source": []
  }
 ],
 "metadata": {
  "kernelspec": {
   "display_name": "Python 3 (ipykernel)",
   "language": "python",
   "name": "python3"
  },
  "language_info": {
   "codemirror_mode": {
    "name": "ipython",
    "version": 3
   },
   "file_extension": ".py",
   "mimetype": "text/x-python",
   "name": "python",
   "nbconvert_exporter": "python",
   "pygments_lexer": "ipython3",
   "version": "3.8.10"
  }
 },
 "nbformat": 4,
 "nbformat_minor": 5
}

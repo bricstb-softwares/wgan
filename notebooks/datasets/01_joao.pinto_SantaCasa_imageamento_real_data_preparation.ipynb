{
 "cells": [
  {
   "cell_type": "code",
   "execution_count": 17,
   "id": "f8cf9e06-842f-4761-b480-e78e3631b728",
   "metadata": {},
   "outputs": [],
   "source": [
    "import pandas as pd\n",
    "import numpy as np\n",
    "import os, sys\n",
    "import glob\n",
    "import re\n",
    "import hashlib\n",
    "import pathlib\n",
    "from tqdm import tqdm\n",
    "#from sklearn.model_selection import train_test_split\n",
    "from rxwgan.core import stratified_train_val_test_splits\n",
    "from rxwgan.datasets import DownloadDataset\n",
    "import warnings\n",
    "warnings.filterwarnings(\"ignore\")"
   ]
  },
  {
   "cell_type": "code",
   "execution_count": 2,
   "id": "d8a0e7d9-ae02-4a0c-a937-74ddf899872e",
   "metadata": {},
   "outputs": [],
   "source": [
    "token=\"b16fe0fc92088c4840a98160f3848839e68b1148\""
   ]
  },
  {
   "cell_type": "code",
   "execution_count": 30,
   "id": "51b42496-e41e-40f2-b6d9-f833cec774b0",
   "metadata": {},
   "outputs": [
    {
     "name": "stderr",
     "output_type": "stream",
     "text": [
      "100%|████████████████████████████████████████████████████████████████████████████████| 255/255 [00:29<00:00,  8.60it/s]\n"
     ]
    }
   ],
   "source": [
    "#df = DownloadDataset(token).download('Imageamento', 'images', basepath='.')\n",
    "df = DownloadDataset(token).download('imageamento', 'images', basepath='.')"
   ]
  },
  {
   "cell_type": "code",
   "execution_count": null,
   "id": "7c3edfb6-1ac0-4eeb-8373-c47d91550039",
   "metadata": {},
   "outputs": [],
   "source": []
  },
  {
   "cell_type": "code",
   "execution_count": 34,
   "id": "67076bb3-b9a2-44e9-81ec-5259a1099b13",
   "metadata": {},
   "outputs": [],
   "source": [
    "def expand_folder( path , extension):\n",
    "    l = glob.glob(path+'/*.'+extension)\n",
    "    l.sort()\n",
    "    return l"
   ]
  },
  {
   "cell_type": "code",
   "execution_count": 35,
   "id": "40b0d826-8b16-4b99-8b3d-401a85f575a0",
   "metadata": {},
   "outputs": [],
   "source": [
    "def get_md5(path):\n",
    "    return hashlib.md5(pathlib.Path(path).read_bytes()).hexdigest()\n"
   ]
  },
  {
   "cell_type": "code",
   "execution_count": 36,
   "id": "892f9edb-4176-4074-88b4-d4c30ddb37d2",
   "metadata": {},
   "outputs": [],
   "source": [
    "# this is the location of the raw chenzen data\n",
    "base_data_raw_path = '/home/joao.pinto/public/brics_data/SantaCasa/imageamento/raw/images'"
   ]
  },
  {
   "cell_type": "code",
   "execution_count": 37,
   "id": "22c742ba-129d-44d4-b4cd-354b182889af",
   "metadata": {},
   "outputs": [],
   "source": [
    "def prepare_my_table( path, target ):\n",
    "    \n",
    "    d = {\n",
    "      'target'   : [],\n",
    "      'image_ID' : [],\n",
    "      'raw_image_path'     : [],\n",
    "      'raw_image_md5'      : [],\n",
    "    }\n",
    "\n",
    "\n",
    "    \n",
    "    for idx, path in enumerate(expand_folder(path, 'jpg')):\n",
    "            \n",
    "            image_filename = path.split('/')[-1]\n",
    "            image_path = path\n",
    "            d['target'].append(target)\n",
    "            d['raw_image_path'].append(image_path)\n",
    "            d['raw_image_md5'].append(get_md5(image_path))\n",
    "            d['image_ID'].append(image_filename.replace('.png',''))\n",
    "   \n",
    "            \n",
    "    return pd.DataFrame(d)\n",
    "\n",
    "\n",
    "df = prepare_my_table(base_data_raw_path, 0)\n",
    "df['run'] = 'SantaCasa_imageamento'\n"
   ]
  },
  {
   "cell_type": "code",
   "execution_count": 39,
   "id": "2eb0936f-8817-4c41-8ac0-cfbf9933038b",
   "metadata": {},
   "outputs": [
    {
     "data": {
      "text/html": [
       "<div>\n",
       "<style scoped>\n",
       "    .dataframe tbody tr th:only-of-type {\n",
       "        vertical-align: middle;\n",
       "    }\n",
       "\n",
       "    .dataframe tbody tr th {\n",
       "        vertical-align: top;\n",
       "    }\n",
       "\n",
       "    .dataframe thead th {\n",
       "        text-align: right;\n",
       "    }\n",
       "</style>\n",
       "<table border=\"1\" class=\"dataframe\">\n",
       "  <thead>\n",
       "    <tr style=\"text-align: right;\">\n",
       "      <th></th>\n",
       "      <th>target</th>\n",
       "      <th>image_ID</th>\n",
       "      <th>raw_image_path</th>\n",
       "      <th>raw_image_md5</th>\n",
       "      <th>run</th>\n",
       "    </tr>\n",
       "  </thead>\n",
       "  <tbody>\n",
       "    <tr>\n",
       "      <th>0</th>\n",
       "      <td>0</td>\n",
       "      <td>image_20220315_184023_414198.jpg</td>\n",
       "      <td>/home/joao.pinto/public/brics_data/SantaCasa/i...</td>\n",
       "      <td>08de3b74c0ea27cff51de66a956c1cd4</td>\n",
       "      <td>SantaCasa_imageamento</td>\n",
       "    </tr>\n",
       "    <tr>\n",
       "      <th>1</th>\n",
       "      <td>0</td>\n",
       "      <td>image_20220315_184432_B11816.jpg</td>\n",
       "      <td>/home/joao.pinto/public/brics_data/SantaCasa/i...</td>\n",
       "      <td>d85d703b36f43432da00f2904cb159eb</td>\n",
       "      <td>SantaCasa_imageamento</td>\n",
       "    </tr>\n",
       "    <tr>\n",
       "      <th>2</th>\n",
       "      <td>0</td>\n",
       "      <td>image_20220315_184701_E8A15F.jpg</td>\n",
       "      <td>/home/joao.pinto/public/brics_data/SantaCasa/i...</td>\n",
       "      <td>63280de609a19562058afb008c046b13</td>\n",
       "      <td>SantaCasa_imageamento</td>\n",
       "    </tr>\n",
       "    <tr>\n",
       "      <th>3</th>\n",
       "      <td>0</td>\n",
       "      <td>image_20220315_184740_2D93D3.jpg</td>\n",
       "      <td>/home/joao.pinto/public/brics_data/SantaCasa/i...</td>\n",
       "      <td>e4a0f37025ed430ed65745cdf593357c</td>\n",
       "      <td>SantaCasa_imageamento</td>\n",
       "    </tr>\n",
       "    <tr>\n",
       "      <th>4</th>\n",
       "      <td>0</td>\n",
       "      <td>image_20220315_185230_09A8AE.jpg</td>\n",
       "      <td>/home/joao.pinto/public/brics_data/SantaCasa/i...</td>\n",
       "      <td>91bcaaa15198d0fdd9c36721c6d530eb</td>\n",
       "      <td>SantaCasa_imageamento</td>\n",
       "    </tr>\n",
       "  </tbody>\n",
       "</table>\n",
       "</div>"
      ],
      "text/plain": [
       "   target                          image_ID  \\\n",
       "0       0  image_20220315_184023_414198.jpg   \n",
       "1       0  image_20220315_184432_B11816.jpg   \n",
       "2       0  image_20220315_184701_E8A15F.jpg   \n",
       "3       0  image_20220315_184740_2D93D3.jpg   \n",
       "4       0  image_20220315_185230_09A8AE.jpg   \n",
       "\n",
       "                                      raw_image_path  \\\n",
       "0  /home/joao.pinto/public/brics_data/SantaCasa/i...   \n",
       "1  /home/joao.pinto/public/brics_data/SantaCasa/i...   \n",
       "2  /home/joao.pinto/public/brics_data/SantaCasa/i...   \n",
       "3  /home/joao.pinto/public/brics_data/SantaCasa/i...   \n",
       "4  /home/joao.pinto/public/brics_data/SantaCasa/i...   \n",
       "\n",
       "                      raw_image_md5                    run  \n",
       "0  08de3b74c0ea27cff51de66a956c1cd4  SantaCasa_imageamento  \n",
       "1  d85d703b36f43432da00f2904cb159eb  SantaCasa_imageamento  \n",
       "2  63280de609a19562058afb008c046b13  SantaCasa_imageamento  \n",
       "3  e4a0f37025ed430ed65745cdf593357c  SantaCasa_imageamento  \n",
       "4  91bcaaa15198d0fdd9c36721c6d530eb  SantaCasa_imageamento  "
      ]
     },
     "execution_count": 39,
     "metadata": {},
     "output_type": "execute_result"
    }
   ],
   "source": [
    "df.head()\n"
   ]
  },
  {
   "cell_type": "code",
   "execution_count": 40,
   "id": "f3a09c34-e8b5-44e1-8ad2-274a6653abd0",
   "metadata": {},
   "outputs": [],
   "source": [
    "#df.to_csv('/home/jodafons/public/brics_data/Shenzhen/raw/Shenzhen_table_from_raw.csv')\n",
    "df.to_csv('user.joao.pinto_SantaCasa_imageamento_table_from_raw.csv')\n"
   ]
  },
  {
   "cell_type": "markdown",
   "id": "be2b2fac-9229-4404-b067-96f4c403929c",
   "metadata": {},
   "source": [
    "# Split K-Folds"
   ]
  },
  {
   "cell_type": "code",
   "execution_count": 41,
   "id": "ec7eb4b0-2112-44fe-ae58-97511f6672f4",
   "metadata": {},
   "outputs": [
    {
     "name": "stdout",
     "output_type": "stream",
     "text": [
      "bins selected for val: [1, 2, 3, 4, 5, 6, 7, 8, 9]\n"
     ]
    },
    {
     "name": "stderr",
     "output_type": "stream",
     "text": [
      "100%|██████████████████████████████████████████████████████████████████████████████████| 9/9 [00:00<00:00, 4891.00it/s]\n"
     ]
    },
    {
     "name": "stdout",
     "output_type": "stream",
     "text": [
      "bins selected for val: [0, 2, 3, 4, 5, 6, 7, 8, 9]\n"
     ]
    },
    {
     "name": "stderr",
     "output_type": "stream",
     "text": [
      "100%|██████████████████████████████████████████████████████████████████████████████████| 9/9 [00:00<00:00, 6393.76it/s]\n"
     ]
    },
    {
     "name": "stdout",
     "output_type": "stream",
     "text": [
      "bins selected for val: [0, 1, 3, 4, 5, 6, 7, 8, 9]\n"
     ]
    },
    {
     "name": "stderr",
     "output_type": "stream",
     "text": [
      "100%|██████████████████████████████████████████████████████████████████████████████████| 9/9 [00:00<00:00, 6760.16it/s]\n"
     ]
    },
    {
     "name": "stdout",
     "output_type": "stream",
     "text": [
      "bins selected for val: [0, 1, 2, 4, 5, 6, 7, 8, 9]\n"
     ]
    },
    {
     "name": "stderr",
     "output_type": "stream",
     "text": [
      "100%|██████████████████████████████████████████████████████████████████████████████████| 9/9 [00:00<00:00, 7220.49it/s]\n"
     ]
    },
    {
     "name": "stdout",
     "output_type": "stream",
     "text": [
      "bins selected for val: [0, 1, 2, 3, 5, 6, 7, 8, 9]\n"
     ]
    },
    {
     "name": "stderr",
     "output_type": "stream",
     "text": [
      "100%|██████████████████████████████████████████████████████████████████████████████████| 9/9 [00:00<00:00, 7095.63it/s]\n"
     ]
    },
    {
     "name": "stdout",
     "output_type": "stream",
     "text": [
      "bins selected for val: [0, 1, 2, 3, 4, 6, 7, 8, 9]\n"
     ]
    },
    {
     "name": "stderr",
     "output_type": "stream",
     "text": [
      "100%|██████████████████████████████████████████████████████████████████████████████████| 9/9 [00:00<00:00, 6957.01it/s]\n"
     ]
    },
    {
     "name": "stdout",
     "output_type": "stream",
     "text": [
      "bins selected for val: [0, 1, 2, 3, 4, 5, 7, 8, 9]\n"
     ]
    },
    {
     "name": "stderr",
     "output_type": "stream",
     "text": [
      "100%|██████████████████████████████████████████████████████████████████████████████████| 9/9 [00:00<00:00, 7252.40it/s]\n"
     ]
    },
    {
     "name": "stdout",
     "output_type": "stream",
     "text": [
      "bins selected for val: [0, 1, 2, 3, 4, 5, 6, 8, 9]\n"
     ]
    },
    {
     "name": "stderr",
     "output_type": "stream",
     "text": [
      "100%|██████████████████████████████████████████████████████████████████████████████████| 9/9 [00:00<00:00, 7314.23it/s]\n"
     ]
    },
    {
     "name": "stdout",
     "output_type": "stream",
     "text": [
      "bins selected for val: [0, 1, 2, 3, 4, 5, 6, 7, 9]\n"
     ]
    },
    {
     "name": "stderr",
     "output_type": "stream",
     "text": [
      "100%|██████████████████████████████████████████████████████████████████████████████████| 9/9 [00:00<00:00, 7143.97it/s]\n"
     ]
    },
    {
     "name": "stdout",
     "output_type": "stream",
     "text": [
      "bins selected for val: [0, 1, 2, 3, 4, 5, 6, 7, 8]\n"
     ]
    },
    {
     "name": "stderr",
     "output_type": "stream",
     "text": [
      "100%|██████████████████████████████████████████████████████████████████████████████████| 9/9 [00:00<00:00, 6778.37it/s]\n"
     ]
    },
    {
     "ename": "NameError",
     "evalue": "name 'pickle' is not defined",
     "output_type": "error",
     "traceback": [
      "\u001b[0;31m---------------------------------------------------------------------------\u001b[0m",
      "\u001b[0;31mNameError\u001b[0m                                 Traceback (most recent call last)",
      "Cell \u001b[0;32mIn[41], line 3\u001b[0m\n\u001b[1;32m      1\u001b[0m seed \u001b[38;5;241m=\u001b[39m \u001b[38;5;241m512\u001b[39m\n\u001b[1;32m      2\u001b[0m splits \u001b[38;5;241m=\u001b[39m stratified_train_val_test_splits(df,\u001b[38;5;241m10\u001b[39m,seed)\n\u001b[0;32m----> 3\u001b[0m \u001b[43mpickle\u001b[49m\u001b[38;5;241m.\u001b[39mdump(splits, \u001b[38;5;28mopen\u001b[39m(\u001b[38;5;124m'\u001b[39m\u001b[38;5;124msplits.pkl\u001b[39m\u001b[38;5;124m'\u001b[39m,\u001b[38;5;124m'\u001b[39m\u001b[38;5;124mwb\u001b[39m\u001b[38;5;124m'\u001b[39m) )\n",
      "\u001b[0;31mNameError\u001b[0m: name 'pickle' is not defined"
     ]
    }
   ],
   "source": [
    "\n",
    "seed = 512\n",
    "splits = stratified_train_val_test_splits(df,10,seed)\n",
    "pickle.dump(splits, open('splits.pkl','wb') )\n"
   ]
  },
  {
   "cell_type": "code",
   "execution_count": 42,
   "id": "399d659d-135c-458d-b14d-4af040767652",
   "metadata": {},
   "outputs": [],
   "source": [
    "df_splitted = None\n",
    "\n",
    "for test in range(10):\n",
    "    for sort in range(9):\n",
    "        \n",
    "        train_index = splits[test][sort][0]\n",
    "        val_index = splits[test][sort][1]\n",
    "        test_index = splits[test][sort][2]\n",
    "        \n",
    "        df_train = df.iloc[train_index]\n",
    "        df_train['test'] = test\n",
    "        df_train['sort'] = sort\n",
    "        df_train['dataset'] = 'train'\n",
    "        \n",
    "        df_val = df.iloc[val_index]\n",
    "        df_val['test'] = test\n",
    "        df_val['sort'] = sort\n",
    "        df_val['dataset'] = 'val'       \n",
    " \n",
    "        df_test = df.iloc[test_index]\n",
    "        df_test['test'] = test\n",
    "        df_test['sort'] = sort\n",
    "        df_test['dataset'] = 'test'       \n",
    "\n",
    "        if df_splitted is not None:\n",
    "            df_splitted = pd.concat((df_splitted, df_train, df_val, df_test) )\n",
    "        else:\n",
    "            df_splitted = pd.concat((df_train, df_val, df_test) )\n",
    "            \n",
    "        df_splitted['type'] = 'real'"
   ]
  },
  {
   "cell_type": "code",
   "execution_count": 43,
   "id": "480112d4-5d02-4c9e-af34-9cc64c7f986c",
   "metadata": {},
   "outputs": [],
   "source": [
    "df_splitted.to_csv('user.joao.pinto_SantaCasa_imageamento_table_from_raw_splitted.csv')\n"
   ]
  },
  {
   "cell_type": "code",
   "execution_count": 44,
   "id": "00fc5b48-282c-4b62-b432-92c72100a31a",
   "metadata": {},
   "outputs": [
    {
     "data": {
      "text/html": [
       "<div>\n",
       "<style scoped>\n",
       "    .dataframe tbody tr th:only-of-type {\n",
       "        vertical-align: middle;\n",
       "    }\n",
       "\n",
       "    .dataframe tbody tr th {\n",
       "        vertical-align: top;\n",
       "    }\n",
       "\n",
       "    .dataframe thead th {\n",
       "        text-align: right;\n",
       "    }\n",
       "</style>\n",
       "<table border=\"1\" class=\"dataframe\">\n",
       "  <thead>\n",
       "    <tr style=\"text-align: right;\">\n",
       "      <th></th>\n",
       "      <th>target</th>\n",
       "      <th>image_ID</th>\n",
       "      <th>raw_image_path</th>\n",
       "      <th>raw_image_md5</th>\n",
       "      <th>run</th>\n",
       "      <th>test</th>\n",
       "      <th>sort</th>\n",
       "      <th>dataset</th>\n",
       "      <th>type</th>\n",
       "    </tr>\n",
       "  </thead>\n",
       "  <tbody>\n",
       "    <tr>\n",
       "      <th>0</th>\n",
       "      <td>0</td>\n",
       "      <td>image_20220315_184023_414198.jpg</td>\n",
       "      <td>/home/joao.pinto/public/brics_data/SantaCasa/i...</td>\n",
       "      <td>08de3b74c0ea27cff51de66a956c1cd4</td>\n",
       "      <td>SantaCasa_imageamento</td>\n",
       "      <td>0</td>\n",
       "      <td>0</td>\n",
       "      <td>train</td>\n",
       "      <td>real</td>\n",
       "    </tr>\n",
       "    <tr>\n",
       "      <th>1</th>\n",
       "      <td>0</td>\n",
       "      <td>image_20220315_184432_B11816.jpg</td>\n",
       "      <td>/home/joao.pinto/public/brics_data/SantaCasa/i...</td>\n",
       "      <td>d85d703b36f43432da00f2904cb159eb</td>\n",
       "      <td>SantaCasa_imageamento</td>\n",
       "      <td>0</td>\n",
       "      <td>0</td>\n",
       "      <td>train</td>\n",
       "      <td>real</td>\n",
       "    </tr>\n",
       "    <tr>\n",
       "      <th>3</th>\n",
       "      <td>0</td>\n",
       "      <td>image_20220315_184740_2D93D3.jpg</td>\n",
       "      <td>/home/joao.pinto/public/brics_data/SantaCasa/i...</td>\n",
       "      <td>e4a0f37025ed430ed65745cdf593357c</td>\n",
       "      <td>SantaCasa_imageamento</td>\n",
       "      <td>0</td>\n",
       "      <td>0</td>\n",
       "      <td>train</td>\n",
       "      <td>real</td>\n",
       "    </tr>\n",
       "    <tr>\n",
       "      <th>4</th>\n",
       "      <td>0</td>\n",
       "      <td>image_20220315_185230_09A8AE.jpg</td>\n",
       "      <td>/home/joao.pinto/public/brics_data/SantaCasa/i...</td>\n",
       "      <td>91bcaaa15198d0fdd9c36721c6d530eb</td>\n",
       "      <td>SantaCasa_imageamento</td>\n",
       "      <td>0</td>\n",
       "      <td>0</td>\n",
       "      <td>train</td>\n",
       "      <td>real</td>\n",
       "    </tr>\n",
       "    <tr>\n",
       "      <th>5</th>\n",
       "      <td>0</td>\n",
       "      <td>image_20220315_185346_EE823A.jpg</td>\n",
       "      <td>/home/joao.pinto/public/brics_data/SantaCasa/i...</td>\n",
       "      <td>90aa14ef4eb038986011b36f933e85bd</td>\n",
       "      <td>SantaCasa_imageamento</td>\n",
       "      <td>0</td>\n",
       "      <td>0</td>\n",
       "      <td>train</td>\n",
       "      <td>real</td>\n",
       "    </tr>\n",
       "    <tr>\n",
       "      <th>...</th>\n",
       "      <td>...</td>\n",
       "      <td>...</td>\n",
       "      <td>...</td>\n",
       "      <td>...</td>\n",
       "      <td>...</td>\n",
       "      <td>...</td>\n",
       "      <td>...</td>\n",
       "      <td>...</td>\n",
       "      <td>...</td>\n",
       "    </tr>\n",
       "    <tr>\n",
       "      <th>38</th>\n",
       "      <td>0</td>\n",
       "      <td>image_20220317_155119_AB6FFB.jpg</td>\n",
       "      <td>/home/joao.pinto/public/brics_data/SantaCasa/i...</td>\n",
       "      <td>19369365ab2bc94f07c80121961021d2</td>\n",
       "      <td>SantaCasa_imageamento</td>\n",
       "      <td>9</td>\n",
       "      <td>8</td>\n",
       "      <td>test</td>\n",
       "      <td>real</td>\n",
       "    </tr>\n",
       "    <tr>\n",
       "      <th>39</th>\n",
       "      <td>0</td>\n",
       "      <td>image_20220317_155333_253D0C.jpg</td>\n",
       "      <td>/home/joao.pinto/public/brics_data/SantaCasa/i...</td>\n",
       "      <td>54d0bc620f4969dc19fca3f23ea7db4f</td>\n",
       "      <td>SantaCasa_imageamento</td>\n",
       "      <td>9</td>\n",
       "      <td>8</td>\n",
       "      <td>test</td>\n",
       "      <td>real</td>\n",
       "    </tr>\n",
       "    <tr>\n",
       "      <th>56</th>\n",
       "      <td>0</td>\n",
       "      <td>image_20220317_164325_305BC9.jpg</td>\n",
       "      <td>/home/joao.pinto/public/brics_data/SantaCasa/i...</td>\n",
       "      <td>fb46e20503046ae10e09b374e0a2345a</td>\n",
       "      <td>SantaCasa_imageamento</td>\n",
       "      <td>9</td>\n",
       "      <td>8</td>\n",
       "      <td>test</td>\n",
       "      <td>real</td>\n",
       "    </tr>\n",
       "    <tr>\n",
       "      <th>75</th>\n",
       "      <td>0</td>\n",
       "      <td>image_20220321_144842_814C75.jpg</td>\n",
       "      <td>/home/joao.pinto/public/brics_data/SantaCasa/i...</td>\n",
       "      <td>f259228be579e99b222ea364d3c938df</td>\n",
       "      <td>SantaCasa_imageamento</td>\n",
       "      <td>9</td>\n",
       "      <td>8</td>\n",
       "      <td>test</td>\n",
       "      <td>real</td>\n",
       "    </tr>\n",
       "    <tr>\n",
       "      <th>78</th>\n",
       "      <td>0</td>\n",
       "      <td>image_20220321_145409_4FA6FB.jpg</td>\n",
       "      <td>/home/joao.pinto/public/brics_data/SantaCasa/i...</td>\n",
       "      <td>bcaec5fb0f568e3246ad361f3d2dddca</td>\n",
       "      <td>SantaCasa_imageamento</td>\n",
       "      <td>9</td>\n",
       "      <td>8</td>\n",
       "      <td>test</td>\n",
       "      <td>real</td>\n",
       "    </tr>\n",
       "  </tbody>\n",
       "</table>\n",
       "<p>7920 rows × 9 columns</p>\n",
       "</div>"
      ],
      "text/plain": [
       "    target                          image_ID  \\\n",
       "0        0  image_20220315_184023_414198.jpg   \n",
       "1        0  image_20220315_184432_B11816.jpg   \n",
       "3        0  image_20220315_184740_2D93D3.jpg   \n",
       "4        0  image_20220315_185230_09A8AE.jpg   \n",
       "5        0  image_20220315_185346_EE823A.jpg   \n",
       "..     ...                               ...   \n",
       "38       0  image_20220317_155119_AB6FFB.jpg   \n",
       "39       0  image_20220317_155333_253D0C.jpg   \n",
       "56       0  image_20220317_164325_305BC9.jpg   \n",
       "75       0  image_20220321_144842_814C75.jpg   \n",
       "78       0  image_20220321_145409_4FA6FB.jpg   \n",
       "\n",
       "                                       raw_image_path  \\\n",
       "0   /home/joao.pinto/public/brics_data/SantaCasa/i...   \n",
       "1   /home/joao.pinto/public/brics_data/SantaCasa/i...   \n",
       "3   /home/joao.pinto/public/brics_data/SantaCasa/i...   \n",
       "4   /home/joao.pinto/public/brics_data/SantaCasa/i...   \n",
       "5   /home/joao.pinto/public/brics_data/SantaCasa/i...   \n",
       "..                                                ...   \n",
       "38  /home/joao.pinto/public/brics_data/SantaCasa/i...   \n",
       "39  /home/joao.pinto/public/brics_data/SantaCasa/i...   \n",
       "56  /home/joao.pinto/public/brics_data/SantaCasa/i...   \n",
       "75  /home/joao.pinto/public/brics_data/SantaCasa/i...   \n",
       "78  /home/joao.pinto/public/brics_data/SantaCasa/i...   \n",
       "\n",
       "                       raw_image_md5                    run  test  sort  \\\n",
       "0   08de3b74c0ea27cff51de66a956c1cd4  SantaCasa_imageamento     0     0   \n",
       "1   d85d703b36f43432da00f2904cb159eb  SantaCasa_imageamento     0     0   \n",
       "3   e4a0f37025ed430ed65745cdf593357c  SantaCasa_imageamento     0     0   \n",
       "4   91bcaaa15198d0fdd9c36721c6d530eb  SantaCasa_imageamento     0     0   \n",
       "5   90aa14ef4eb038986011b36f933e85bd  SantaCasa_imageamento     0     0   \n",
       "..                               ...                    ...   ...   ...   \n",
       "38  19369365ab2bc94f07c80121961021d2  SantaCasa_imageamento     9     8   \n",
       "39  54d0bc620f4969dc19fca3f23ea7db4f  SantaCasa_imageamento     9     8   \n",
       "56  fb46e20503046ae10e09b374e0a2345a  SantaCasa_imageamento     9     8   \n",
       "75  f259228be579e99b222ea364d3c938df  SantaCasa_imageamento     9     8   \n",
       "78  bcaec5fb0f568e3246ad361f3d2dddca  SantaCasa_imageamento     9     8   \n",
       "\n",
       "   dataset  type  \n",
       "0    train  real  \n",
       "1    train  real  \n",
       "3    train  real  \n",
       "4    train  real  \n",
       "5    train  real  \n",
       "..     ...   ...  \n",
       "38    test  real  \n",
       "39    test  real  \n",
       "56    test  real  \n",
       "75    test  real  \n",
       "78    test  real  \n",
       "\n",
       "[7920 rows x 9 columns]"
      ]
     },
     "execution_count": 44,
     "metadata": {},
     "output_type": "execute_result"
    }
   ],
   "source": [
    "df_splitted"
   ]
  },
  {
   "cell_type": "code",
   "execution_count": null,
   "id": "9e1da480-3f85-4df2-888f-1f46d6bde84e",
   "metadata": {},
   "outputs": [],
   "source": []
  },
  {
   "cell_type": "code",
   "execution_count": null,
   "id": "f7101080-c082-4b3f-9e76-c5cf6d0834d4",
   "metadata": {},
   "outputs": [],
   "source": []
  },
  {
   "cell_type": "code",
   "execution_count": null,
   "id": "41618e2f-49e6-4820-8587-dbc7dacf322d",
   "metadata": {},
   "outputs": [],
   "source": []
  },
  {
   "cell_type": "code",
   "execution_count": null,
   "id": "97d328a7-532f-4d71-a5a1-bea34344bbf8",
   "metadata": {},
   "outputs": [],
   "source": []
  },
  {
   "cell_type": "code",
   "execution_count": null,
   "id": "cce38a72-d96a-4470-9f7b-04a85ee03009",
   "metadata": {},
   "outputs": [],
   "source": []
  },
  {
   "cell_type": "code",
   "execution_count": null,
   "id": "3937edbc-3c23-41e6-8909-f5b5e368a6e7",
   "metadata": {},
   "outputs": [],
   "source": []
  }
 ],
 "metadata": {
  "kernelspec": {
   "display_name": "Python 3 (ipykernel)",
   "language": "python",
   "name": "python3"
  },
  "language_info": {
   "codemirror_mode": {
    "name": "ipython",
    "version": 3
   },
   "file_extension": ".py",
   "mimetype": "text/x-python",
   "name": "python",
   "nbconvert_exporter": "python",
   "pygments_lexer": "ipython3",
   "version": "3.8.10"
  }
 },
 "nbformat": 4,
 "nbformat_minor": 5
}
